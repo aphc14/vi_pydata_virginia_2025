{
 "cells": [
  {
   "cell_type": "markdown",
   "metadata": {},
   "source": [
    "[![Open In Colab](https://colab.research.google.com/assets/colab-badge.svg)](https://colab.research.google.com/github/fonnesbeck/vi_pydata_virginia_2025/blob/master/notebooks/Pathfinder.ipynb)\n",
    "\n",
    "# Pathfinder Variational Inference"
   ]
  },
  {
   "cell_type": "markdown",
   "metadata": {},
   "source": [
    "Pathfinder offers an elegant solution to many of the common challenges encountered in traditional variational inference. Rather than directly optimizing a variational distribution to match the posterior, Pathfinder constructs a geometric path through the probability space that connects a simple initial distribution to the target posterior. It offers several advantages:\n",
    "\n",
    "1. **Speed**: Requires far fewer gradient evaluations than ADVI or MCMC warmup\n",
    "2. **Scalability**: Performs well on larger problems and high-dimensional models\n",
    "3. **Parallelization**: Can compute ELBO estimates in parallel, unlike ADVI\n",
    "\n",
    "On large problems, it should scale better than most MCMC algorithms, including gradient-based methods like NUTS, and requires 1-2 orders of magnitude fewer log density and gradient evaluations than ADVI and the MCMC warmup phase. Moreover, Pathfinder can perform the Monte Carlo KL divergence estimates used to compute ELBO in parallel, providing a major advantage over ADVI, which must evaluate the ELBO sequentially.\n",
    "\n",
    "Like ADVI, the computational efficiencies may come at the cost of a more biased estimate of the posterior but can be managed through the algorithm's settings. \n",
    "\n",
    "In this tutorial, we'll look at how Pathfinder works conceptually, how to use it in PyMC, and examine its performance across several example problems."
   ]
  },
  {
   "cell_type": "markdown",
   "metadata": {},
   "source": [
    "## How Pathfinder Works\n",
    "\n",
    "At a high level, Pathfinder works like this:\n",
    "\n",
    "1. **Optimization Path**: Uses L-BFGS optimization to find a good path through the parameter space\n",
    "2. **Local Approximations**: Creates normal (Gaussian) approximations at different points along this path\n",
    "3. **Sample From Approximations**: Monte Carlo samples are drawn from these approximations\n",
    "4. **ELBO Evaluation**: Selects the best approximation using the Evidence Lower Bound (ELBO)\n",
    "5. **Final Sampling**: Draws samples from the best approximation for inference\n",
    "\n",
    "The name \"Pathfinder\" comes from the fact that it finds a good path through parameter space to locate a high-quality approximation."
   ]
  },
  {
   "cell_type": "markdown",
   "metadata": {},
   "source": [
    "### The Optimization Path\n",
    "\n",
    "Pathfinder starts by using a mathematical optimization technique called L-BFGS (Limited-memory Broyden-Fletcher-Goldfarb-Shanno) to move through the parameter space. \n",
    "\n",
    "Think of this like a hiker trying to climb to the top of a mountain by always moving uphill. L-BFGS efficiently tracks the path upward, using information about how steep the slope is (gradients) and how the terrain changes (approximate Hessian matrix).\n",
    "\n",
    "Starting from a random point at $\\theta^{(0)}$, which should be at the tail-region of the posterior distribution, L-BFGS moves through the body of the distribution and towards a local maximum.\n",
    "\n",
    "As the optimization proceeds, Pathfinder records both the positions (parameters) and the local landscape information (gradients) at each step along the path."
   ]
  },
  {
   "cell_type": "markdown",
   "metadata": {},
   "source": [
    "### Creating Local Approximations\n",
    "\n",
    "At each point along this optimization path, Pathfinder creates a normal (Gaussian) approximation to the posterior distribution. This is based on a second-order Taylor expansion:\n",
    "\n",
    "$$ \\log p(\\theta | x) \\approx \\log p(\\theta_0 | x) + g^T(\\theta - \\theta_0) + \\frac{1}{2}(\\theta - \\theta_0)^T H (\\theta - \\theta_0) $$\n",
    "\n",
    "These approximations have:\n",
    "\n",
    "- A **mean** representing the central estimate of the parameters\n",
    "- A **covariance matrix** capturing the uncertainty and relationships between parameters\n",
    "\n",
    "$$\n",
    "\\begin{align*}\n",
    "\\mu^{(l)} &= \\theta^{(l)} - \\text{H}^{-1}(\\theta^{(l)}) \\cdot g^{(l)} \\\\\n",
    "\\Sigma^{(l)} &= \\text{H}^{-1}(\\theta^{(l)})\n",
    "\\end{align*}\n",
    "$$\n",
    "\n",
    "where $\\text{H}(\\theta^{(l)}) = - \\nabla^2 \\log f(\\theta^{(l)})$ is the approximate Hessian matrix of the log unnormalized density at $\\theta^{(l)}$.\n",
    "\n",
    "Unlike ADVI, where the covariance matrix is either diagonal (mean-field ADVI) or full rank (full-rank ADVI), Pathfinder uses a low-rank plus diagonal factorization of the inverse Hessian factor, where the rank of the estimate for the covariance matrix can be controlled by the user.\n",
    "\n",
    "The covariance matrix is constructed efficiently using information from the optimization path, capturing local curvature of the posterior distribution.\n",
    "\n",
    "### Sampling from Approximations\n",
    "\n",
    "After constructing the inverse Hessian factors along the optimization path, Pathfinder needs to first sample from the resulting normal approximations and then evaluate the log density of these samples. This is necessary to compute the evidence lower bound (ELBO) in the next step, which will allow us to select the best normal approximation.\n",
    "\n",
    "The **BFGS-Sample** algorithm generates samples from a local normal approximation to the target distribution. It takes optimization trajectory points and their gradients, along with inverse Hessian factors, and produces $K$ samples from the corresponding multivariate normal distribution. The algorithm handles two cases: \n",
    "\n",
    "1. when the rank is greater than or equal to the parameter dimension, it uses a direct Cholesky decomposition approach\n",
    "2. otherwise, it employs a more computationally-efficient thin QR factorization method. \n",
    "    \n",
    "In both cases, the algorithm transforms standard normal random variables using the covariance structure encoded in the inverse Hessian factors to produce properly distributed samples, while also computing their log density values for subsequent ELBO calculations.\n",
    "\n",
    "![](images/pathfinder.png)"
   ]
  },
  {
   "cell_type": "markdown",
   "metadata": {},
   "source": [
    "### Selecting the Best Approximation\n",
    "\n",
    "Once Pathfinder has created these local normal approximations, it needs to decide which one is best. It does this by computing the **Evidence Lower Bound (ELBO)** for each approximation.\n",
    "\n",
    "The ELBO measures how well each approximation matches the true posterior. The higher the ELBO, the better the approximation. This calculation involves:\n",
    "\n",
    "1. Drawing Monte Carlo samples from each normal approximation (from above)\n",
    "2. Evaluating the log density of these samples under both the target distribution and the approximation\n",
    "3. Computing the average difference\n",
    "\n",
    "The approximation with the highest ELBO is selected as the best one."
   ]
  },
  {
   "cell_type": "markdown",
   "metadata": {},
   "source": [
    "### Final Sampling\n",
    "\n",
    "Once the best approximation is selected, Pathfinder draws samples from this approximation, re-using the BFGS-Sample function for this. Then, importance sampling is applied to correct for approximation bias.\n",
    "\n",
    "These samples can then be used for posterior inference, just like samples from MCMC methods, but typically at a fraction of the computational cost."
   ]
  },
  {
   "cell_type": "markdown",
   "metadata": {},
   "source": [
    "### Importance Sampling\n",
    "\n",
    "Like all VI methods, Pathfinder is approximating the posterior $p(\\theta|y)$ using a tractable probability density $q(\\theta)$ that is some approximation of $p$. \n",
    "\n",
    "$$E[h(\\theta) | y] = \\frac{\\int h(\\theta) \\frac{p(\\theta|y)}{q(\\theta)} q(\\theta) d\\theta}{\\int \\frac{p(\\theta|y)}{q(\\theta)} q(\\theta) d\\theta}$$\n",
    "\n",
    "Expressed this way, $w(\\theta) = p(\\theta|y) / q(\\theta)$ can be regarded as *weights* for the $M$ values of $\\theta$ sampled from $q$ that we can use to correct the sample so that it approximates $h(\\theta)$. Specifically, the **importance sampling estimate** of $E[h(\\theta) | y]$ is:\n",
    "\n",
    "$$\\hat{h}_{is} = \\frac{\\sum_{i=1}^{M} h(\\theta^{(i)})w(\\theta^{(i)})}{\\sum_{i=1}^{M} w(\\theta^{(i)})}$$\n",
    "\n",
    "where $\\theta^{(i)}$ is the $i^{th}$ sample simulated from $q(\\theta)$. The standard error for the importance sampling estimate is:\n",
    "\n",
    "$$\\text{SE}_{is} = \\frac{\\sqrt{\\sum_{i=1}^{M} [(h(\\theta^{(i)}) - \\hat{h}_{is}) w(\\theta^{(i)})]^2}}{\\sum_{i=1}^{M} w(\\theta^{(i)})}$$\n",
    "\n",
    "The efficiency of importance sampling is related to the selection of the importance sampling distribution $q$."
   ]
  },
  {
   "cell_type": "markdown",
   "metadata": {},
   "source": [
    "### Example: Gamma distribution\n",
    "\n",
    "As a simple illustration of importance sampling, let's consider the problem of estimating a *gamma distribution* using a normal distribution via importance sampling.\n",
    "\n",
    "The goal will be to estimate $E[X]$ where $X \\sim Gamma(3, 2)$\n",
    "\n"
   ]
  },
  {
   "cell_type": "code",
   "execution_count": 4,
   "metadata": {},
   "outputs": [],
   "source": [
    "shape, scale = 3.0, 2.0\n",
    "target_mean = shape * scale"
   ]
  },
  {
   "cell_type": "markdown",
   "metadata": {},
   "source": [
    "We'll center the normal proposal near the true mean with appropriate variance:"
   ]
  },
  {
   "cell_type": "code",
   "execution_count": null,
   "metadata": {},
   "outputs": [],
   "source": [
    "mu, sigma = 6.0, 3.0"
   ]
  },
  {
   "cell_type": "code",
   "execution_count": 8,
   "metadata": {},
   "outputs": [
    {
     "data": {
      "image/png": "[encoded data removed]",
      "text/plain": [
       "<Figure size 800x500 with 1 Axes>"
      ]
     },
     "metadata": {},
     "output_type": "display_data"
    }
   ],
   "source": [
    "import numpy as np\n",
    "import scipy.stats as stats\n",
    "import matplotlib.pyplot as plt\n",
    "\n",
    "np.random.seed(42)\n",
    "\n",
    "x = np.linspace(0, 15, 1000)\n",
    "gamma_pdf = stats.gamma.pdf(x, shape, scale=scale)\n",
    "normal_pdf = stats.norm.pdf(x, mu, sigma)\n",
    "\n",
    "fig, ax = plt.subplots(figsize=(8, 5))\n",
    "ax.plot(x, gamma_pdf, 'r-', lw=2, label=f'Target: Gamma({shape}, {scale})')\n",
    "ax.plot(x, normal_pdf, 'b--', lw=2, label=f'Proposal: Normal({mu}, {sigma})')\n",
    "ax.set_xlabel('x')\n",
    "ax.set_ylabel('Density')\n",
    "ax.set_title('Target vs. Proposal Distributions')\n",
    "ax.legend()\n",
    "ax.grid(True, alpha=0.3)"
   ]
  },
  {
   "cell_type": "markdown",
   "metadata": {},
   "source": [
    "First we generate candidate samples from the normal distribution:"
   ]
  },
  {
   "cell_type": "code",
   "execution_count": 9,
   "metadata": {},
   "outputs": [],
   "source": [
    "M = 10000\n",
    "samples = np.random.normal(mu, sigma, M)"
   ]
  },
  {
   "cell_type": "markdown",
   "metadata": {},
   "source": [
    "Calculate importance weights:\n",
    "\n",
    "`weights = target_pdf(samples) / proposal_pdf(samples)`\n",
    "\n",
    "which are normalized to sum to 1."
   ]
  },
  {
   "cell_type": "code",
   "execution_count": 14,
   "metadata": {},
   "outputs": [],
   "source": [
    "target_pdf = stats.gamma.pdf(samples, shape, scale=scale)\n",
    "proposal_pdf = stats.norm.pdf(samples, mu, sigma)\n",
    "weights = target_pdf / proposal_pdf\n",
    "\n",
    "# Remove invalid weights (from sampling in regions where target is defined but proposal isn't)\n",
    "valid_idx = (weights > 0) & np.isfinite(weights)\n",
    "samples = samples[valid_idx]\n",
    "weights = weights[valid_idx]\n",
    "\n",
    "# Normalize weights to sum to 1\n",
    "normalized_weights = weights / np.sum(weights)"
   ]
  },
  {
   "cell_type": "markdown",
   "metadata": {},
   "source": [
    "These weights are then used to magically convert the normal samples into gamma samples:"
   ]
  },
  {
   "cell_type": "code",
   "execution_count": 15,
   "metadata": {},
   "outputs": [
    {
     "name": "stdout",
     "output_type": "stream",
     "text": [
      "Importance Sampling Estimate: 5.9698\n",
      "Standard Error: 0.0844\n",
      "True Mean: 6.0\n",
      "Effective Sample Size: 6386.0 (out of 9770 samples)\n"
     ]
    }
   ],
   "source": [
    "# Calculate importance sampling estimate of the mean\n",
    "is_mean = np.sum(samples * normalized_weights)\n",
    "\n",
    "# Calculate standard error of the estimate\n",
    "is_se = np.sqrt(np.sum(((samples - is_mean) * normalized_weights)**2))\n",
    "\n",
    "# Calculate effective sample size\n",
    "ess = 1 / np.sum(normalized_weights**2)\n",
    "\n",
    "print(f\"Importance Sampling Estimate: {is_mean:.4f}\")\n",
    "print(f\"Standard Error: {is_se:.4f}\")\n",
    "print(f\"True Mean: {target_mean}\")\n",
    "print(f\"Effective Sample Size: {ess:.1f} (out of {len(samples)} samples)\")"
   ]
  },
  {
   "cell_type": "code",
   "execution_count": 13,
   "metadata": {},
   "outputs": [
    {
     "data": {
      "text/plain": [
       "<matplotlib.legend.Legend at 0x7fb0f78677a0>"
      ]
     },
     "execution_count": 13,
     "metadata": {},
     "output_type": "execute_result"
    },
    {
     "data": {
      "image/png": "[encoded data removed]",
      "text/plain": [
       "<Figure size 800x500 with 1 Axes>"
      ]
     },
     "metadata": {},
     "output_type": "display_data"
    }
   ],
   "source": [
    "fig, ax = plt.subplots(figsize=(8, 5))\n",
    "\n",
    "bins = np.linspace(0, 15, 50)\n",
    "hist_weights = normalized_weights * len(normalized_weights)  \n",
    "ax.hist(samples, bins=bins, weights=hist_weights, alpha=0.7, \n",
    "         color='skyblue', edgecolor='black', density=True)\n",
    "\n",
    "ax.plot(x, gamma_pdf, 'r-', lw=2, label=f'Target: Gamma({shape}, {scale})')\n",
    "\n",
    "ax.axvline(target_mean, color='r', linestyle='--', lw=2, label=f'True Mean: {target_mean}')\n",
    "ax.axvline(is_mean, color='g', linestyle='-', lw=2, label=f'IS Mean: {is_mean:.4f}')\n",
    "ax.set_title('Importance Sampling Results')\n",
    "ax.set_xlabel('x')\n",
    "ax.set_ylabel('Density')\n",
    "ax.legend()"
   ]
  },
  {
   "cell_type": "markdown",
   "metadata": {},
   "source": [
    "### Multi-path Enhancement\n",
    "\n",
    "The basic Pathfinder algorithm described above is called \"Single-path Pathfinder.\" To improve the quality of approximation, especially for complex posteriors, we can run multiple independent paths and combine their results.\n",
    "\n",
    "This **Multi-path Pathfinder** approach:\n",
    "\n",
    "1. Runs multiple independent Pathfinder instances from different starting points\n",
    "2. Generates $M$ draws from its ELBO-maximizing normal approximation\n",
    "3. Uses importance sampling to combine all draws from all paths\n",
    "4. Selects the final $R$ samples based on their importance weights\n",
    "\n",
    "This is particularly useful for complex posteriors that may have multiple modes or non-normal shapes. By combining samples from different paths, we can better capture the true posterior distribution."
   ]
  },
  {
   "cell_type": "markdown",
   "metadata": {},
   "source": [
    "## Using Pathfinder in PyMC\n",
    "\n",
    "Let's see how to use Pathfinder for practical Bayesian modeling in PyMC. We'll need to import the necessary libraries:"
   ]
  },
  {
   "cell_type": "code",
   "execution_count": null,
   "metadata": {},
   "outputs": [],
   "source": [
    "import numpy as np\n",
    "import pandas as pd\n",
    "import pymc as pm\n",
    "import pymc_extras as pmx\n",
    "import pytensor.tensor as pt\n",
    "import arviz as az\n",
    "import seaborn as sns\n",
    "import matplotlib.pyplot as plt\n",
    "\n",
    "# Configure plotting\n",
    "plt.rcParams.update(\n",
    "    {\n",
    "        \"figure.constrained_layout.use\": True,\n",
    "        \"figure.figsize\": (10, 6),\n",
    "        \"font.size\": 12,\n",
    "    }\n",
    ")\n",
    "\n",
    "# Set ArviZ style\n",
    "az.style.use(\"arviz-darkgrid\")\n",
    "\n",
    "%config InlineBackend.figure_format = 'retina'\n",
    "seed = 42\n",
    "rng = np.random.default_rng(seed)"
   ]
  },
  {
   "cell_type": "markdown",
   "metadata": {},
   "source": [
    "To use Pathfinder, we need to install `pymc-extras`, which contains the implementation:"
   ]
  },
  {
   "cell_type": "code",
   "execution_count": null,
   "metadata": {},
   "outputs": [],
   "source": [
    "# Run this if you haven't installed pymc-extras yet\n",
    "# !pip install git+https://github.com/pymc-devs/pymc-extras"
   ]
  },
  {
   "cell_type": "markdown",
   "metadata": {},
   "source": [
    "## Example 1: The Eight Schools Problem\n",
    "\n",
    "The Eight Schools problem is a classic example in Bayesian statistics, originally analyzed by Rubin (1981). It involves estimating the effects of coaching programs on SAT scores across eight schools.\n",
    "\n",
    "This is a good starting example because:\n",
    "1. It's small enough to understand easily\n",
    "2. It has a hierarchical structure that creates some posterior complexity\n",
    "3. It's commonly used as a benchmark in Bayesian methods"
   ]
  },
  {
   "cell_type": "code",
   "execution_count": null,
   "metadata": {},
   "outputs": [],
   "source": [
    "# Eight schools data\n",
    "J = 8  # number of schools\n",
    "y = np.array([28.0, 8.0, -3.0, 7.0, -1.0, 1.0, 18.0, 12.0])  # observed effects\n",
    "sigma = np.array([15.0, 10.0, 16.0, 11.0, 9.0, 11.0, 10.0, 18.0])  # standard errors"
   ]
  },
  {
   "cell_type": "markdown",
   "metadata": {},
   "source": [
    "Now let's build a hierarchical model for this problem:"
   ]
  },
  {
   "cell_type": "code",
   "execution_count": null,
   "metadata": {},
   "outputs": [],
   "source": [
    "with pm.Model(coords={\"school\": np.arange(J)}) as model:\n",
    "    # Global parameters\n",
    "    baseline = pm.Normal(\"baseline\", mu=0.0, sigma=10.0)  # overall effect\n",
    "    school_sd = pm.Gamma(\"school_sd\", 2, 2)  # between-school variability\n",
    "    \n",
    "    # School-specific effects (constrained to sum to zero)\n",
    "    school_offset = pm.ZeroSumNormal(\"school_offset\", dims=\"school\")\n",
    "    \n",
    "    # Observed data likelihood\n",
    "    _ = pm.Normal(\n",
    "        \"obs\",\n",
    "        mu=baseline + school_sd * school_offset,\n",
    "        sigma=sigma,\n",
    "        observed=y,\n",
    "        dims=\"school\",\n",
    "    )"
   ]
  },
  {
   "cell_type": "markdown",
   "metadata": {},
   "source": [
    "A few notes about this model:\n",
    "\n",
    "1. We've used `ZeroSumNormal` for the school offsets, which constrains them to sum to zero. This is a better parametrization than the traditional one that can lead to sampling difficulties.\n",
    "\n",
    "2. We're using a `Gamma(2, 2)` prior for `school_sd` instead of a `HalfCauchy(5)`. The Gamma has less density at very high values, reflecting that schools typically aren't extremely different from each other."
   ]
  },
  {
   "cell_type": "markdown",
   "metadata": {},
   "source": [
    "Now let's fit this model using different methods for comparison:"
   ]
  },
  {
   "cell_type": "code",
   "execution_count": null,
   "metadata": {},
   "outputs": [],
   "source": [
    "with model:\n",
    "    # Standard MCMC with NUTS\n",
    "    idata_nuts = pm.sample(random_seed=seed)\n",
    "    \n",
    "    # ADVI (Automatic Differentiation Variational Inference)\n",
    "    idata_advi = pm.fit(n=30_000).sample(1000, random_seed=seed)\n",
    "    \n",
    "    # Pathfinder with default settings\n",
    "    idata_pf = pmx.fit(method=\"pathfinder\", random_seed=seed)"
   ]
  },
  {
   "cell_type": "markdown",
   "metadata": {},
   "source": [
    "Let's create a helper function to visualize and compare our results:"
   ]
  },
  {
   "cell_type": "code",
   "execution_count": null,
   "metadata": {},
   "outputs": [],
   "source": [
    "def compare_methods(results, var_names=None):\n",
    "    \"\"\"Plot posterior distributions from different inference methods\"\"\"\n",
    "    az.plot_forest(\n",
    "        [results[key] for key in results.keys()],\n",
    "        model_names=list(results.keys()),\n",
    "        var_names=var_names,\n",
    "        combined=True,\n",
    "        figsize=(10, 10),\n",
    "        kind=\"ridgeplot\",\n",
    "        ridgeplot_alpha=0.5,\n",
    "    )\n",
    "    plt.tight_layout()"
   ]
  },
  {
   "cell_type": "code",
   "execution_count": null,
   "metadata": {},
   "outputs": [],
   "source": [
    "# Compare results\n",
    "var_names = [RV.name for RV in model.free_RVs]\n",
    "res = {\"NUTS\": idata_nuts, \"ADVI\": idata_advi, \"Pathfinder\": idata_pf}\n",
    "\n",
    "compare_methods(res, var_names=var_names)"
   ]
  },
  {
   "cell_type": "markdown",
   "metadata": {},
   "source": [
    "### Improving Pathfinder Results\n",
    "\n",
    "Pathfinder has several tuning parameters we can adjust to improve its performance:\n",
    "\n",
    "1. **jitter**: Controls how far the starting points are from the initial position\n",
    "2. **num_paths**: Number of independent Pathfinder runs for Multi-path Pathfinder\n",
    "3. **maxcor**: History size for L-BFGS optimization\n",
    "\n",
    "Let's try using Multi-path Pathfinder with more exploratory settings:"
   ]
  },
  {
   "cell_type": "code",
   "execution_count": null,
   "metadata": {},
   "outputs": [],
   "source": [
    "with model:\n",
    "    # Multi-path Pathfinder with tuned settings\n",
    "    idata_pf_tuned = pmx.fit(\n",
    "        method=\"pathfinder\",\n",
    "        num_paths=10,  # Run 10 independent paths\n",
    "        jitter=5.0,    # More exploration from starting points\n",
    "        random_seed=seed\n",
    "    )"
   ]
  },
  {
   "cell_type": "code",
   "execution_count": null,
   "metadata": {},
   "outputs": [],
   "source": [
    "# Compare with tuned Pathfinder\n",
    "res[\"Tuned Pathfinder\"] = idata_pf_tuned\n",
    "compare_methods(res, var_names=var_names)"
   ]
  },
  {
   "cell_type": "markdown",
   "metadata": {},
   "source": [
    "## Example 2: Modeling Rugby Match Scores\n",
    "\n",
    "Now let's try Pathfinder on a more complex model. We'll look at a Poisson regression model for rugby match scores, which helps us estimate team attack and defense strengths."
   ]
  },
  {
   "cell_type": "code",
   "execution_count": null,
   "metadata": {},
   "outputs": [],
   "source": [
    "try:\n",
    "    df_all = pd.read_csv(\"../data/rugby.csv\", index_col=0)\n",
    "except:\n",
    "    df_all = pd.read_csv(pm.get_data(\"rugby.csv\"), index_col=0)\n",
    "\n",
    "# Take a look at the data\n",
    "df_all.head()"
   ]
  },
  {
   "cell_type": "code",
   "execution_count": null,
   "metadata": {},
   "outputs": [],
   "source": [
    "# Create team indices\n",
    "home_idx, teams = pd.factorize(df_all[\"home_team\"], sort=True)\n",
    "away_idx, _ = pd.factorize(df_all[\"away_team\"], sort=True)\n",
    "coords = {\"match\": df_all.index, \"team\": teams}"
   ]
  },
  {
   "cell_type": "code",
   "execution_count": null,
   "metadata": {},
   "outputs": [],
   "source": [
    "with pm.Model(coords=coords) as rugby_model:\n",
    "    # Set up constant data\n",
    "    home_team = pm.Data(\"home_team\", home_idx, dims=\"match\")\n",
    "    away_team = pm.Data(\"away_team\", away_idx, dims=\"match\")\n",
    "\n",
    "    # Global model parameters\n",
    "    home = pm.Normal(\"home\", mu=0, sigma=1)        # home advantage\n",
    "    sd_att = pm.HalfNormal(\"sd_att\", sigma=2)      # variability in attack\n",
    "    sd_def = pm.HalfNormal(\"sd_def\", sigma=2)      # variability in defense\n",
    "    intercept = pm.Normal(\"intercept\", mu=3, sigma=1)  # baseline scoring rate\n",
    "\n",
    "    # Team-specific parameters (before centering)\n",
    "    atts_star = pm.Normal(\"atts_star\", mu=0, sigma=sd_att, dims=\"team\")\n",
    "    defs_star = pm.Normal(\"defs_star\", mu=0, sigma=sd_def, dims=\"team\")\n",
    "\n",
    "    # Center the attack and defense parameters (sum to zero constraint)\n",
    "    atts = pm.Deterministic(\"atts\", atts_star - pt.mean(atts_star), dims=\"team\")\n",
    "    defs = pm.Deterministic(\"defs\", defs_star - pt.mean(defs_star), dims=\"team\")\n",
    "    \n",
    "    # Calculate expected scores\n",
    "    home_theta = pt.exp(intercept + home + atts[home_idx] + defs[away_idx])\n",
    "    away_theta = pt.exp(intercept + atts[away_idx] + defs[home_idx])\n",
    "\n",
    "    # Likelihood of observed scores (Poisson distribution)\n",
    "    home_points = pm.Poisson(\n",
    "        \"home_points\",\n",
    "        mu=home_theta,\n",
    "        observed=df_all[\"home_score\"],\n",
    "        dims=\"match\",\n",
    "    )\n",
    "    away_points = pm.Poisson(\n",
    "        \"away_points\",\n",
    "        mu=away_theta,\n",
    "        observed=df_all[\"away_score\"],\n",
    "        dims=\"match\",\n",
    "    )"
   ]
  },
  {
   "cell_type": "markdown",
   "metadata": {},
   "source": [
    "This model has more parameters than the Eight Schools example, making it a better test for scalability. Let's fit it using different methods:"
   ]
  },
  {
   "cell_type": "code",
   "execution_count": null,
   "metadata": {},
   "outputs": [],
   "source": [
    "with rugby_model:\n",
    "    # MCMC with NUTS\n",
    "    idata_nuts = pm.sample(random_seed=seed)\n",
    "    \n",
    "    # ADVI\n",
    "    idata_advi = pm.fit(n=30_000).sample(1000, random_seed=seed)\n",
    "    \n",
    "    # Pathfinder with tuned settings\n",
    "    idata_pf = pmx.fit(\n",
    "        method=\"pathfinder\", \n",
    "        num_paths=15, \n",
    "        jitter=10.0, \n",
    "        random_seed=seed\n",
    "    )"
   ]
  },
  {
   "cell_type": "code",
   "execution_count": null,
   "metadata": {},
   "outputs": [],
   "source": [
    "# Compare global parameters\n",
    "var_names = [\"home\", \"sd_att\", \"sd_def\", \"intercept\"]\n",
    "res = {\"NUTS\": idata_nuts, \"ADVI\": idata_advi, \"Pathfinder\": idata_pf}\n",
    "\n",
    "compare_methods(res, var_names=var_names)"
   ]
  },
  {
   "cell_type": "markdown",
   "metadata": {},
   "source": [
    "Let's also look at team-specific parameters to see how well Pathfinder captures these:"
   ]
  },
  {
   "cell_type": "code",
   "execution_count": null,
   "metadata": {},
   "outputs": [],
   "source": [
    "# Compare attack strength parameters\n",
    "compare_methods(res, var_names=[\"atts\"])"
   ]
  },
  {
   "cell_type": "markdown",
   "metadata": {},
   "source": [
    "## When to Use Pathfinder\n",
    "\n",
    "Based on our examples, here are some guidelines for when Pathfinder might be the right choice:\n",
    "\n",
    "### Advantages of Pathfinder:\n",
    "\n",
    "1. **Speed**: Pathfinder is typically much faster than MCMC methods, especially for large models.\n",
    "2. **Scalability**: Works well with high-dimensional problems where MCMC might struggle.\n",
    "3. **Initialization**: Can be used to initialize MCMC for faster convergence.\n",
    "4. **Reasonable approximations**: For many models, the approximation quality is good enough for practical use.\n",
    "\n",
    "### When to be cautious:\n",
    "\n",
    "1. **Complex posteriors**: Multi-modal or highly skewed distributions may not be captured well by a small number of normal approximations.\n",
    "2. **High precision requirements**: When you need the most accurate posterior possible and compute time isn't a concern, MCMC might still be preferable.\n",
    "3. **Model diagnostics**: For new or complex models, it's a good idea to compare Pathfinder results with MCMC to ensure good approximation."
   ]
  },
  {
   "cell_type": "markdown",
   "metadata": {},
   "source": [
    "## Tuning Pathfinder\n",
    "\n",
    "If you're using Pathfinder and want to improve its performance, here are some parameters to consider tuning:\n",
    "\n",
    "1. **num_paths**: Increasing this runs multiple independent paths and can help capture more complex posteriors. Try values from 4 (default) to 50 or more for complex problems.\n",
    "\n",
    "2. **jitter**: Controls how far initial points are from each other. Higher values explore more of the parameter space. Default is 2.0, but try 5.0-20.0 for complex models.\n",
    "\n",
    "3. **maxcor**: The history size for L-BFGS optimization. Larger values can help with complex curvature. Default is min(model dimension, 10), but you can try higher values for complex models.\n",
    "\n",
    "4. **num_draws_per_path**: Number of samples drawn from each approximation. Default is 1000, but you might increase for more stable results.\n",
    "\n",
    "5. **importance_sampling**: Method used for combining results across paths. Options are \"psis\" (default) or \"psir\". PSIS generally works better in practice."
   ]
  },
  {
   "cell_type": "markdown",
   "metadata": {},
   "source": [
    "## Conclusion\n",
    "\n",
    "Pathfinder offers a compelling approach to variational inference that can significantly speed up Bayesian modeling workflows. It works by finding an optimization path through parameter space, creating normal approximations along the way, and selecting the best one using the ELBO.\n",
    "\n",
    "Key takeaways:\n",
    "\n",
    "1. Pathfinder is generally much faster than MCMC methods like NUTS.\n",
    "2. The quality of approximation is often good enough for many practical applications.\n",
    "3. Multi-path Pathfinder with tuned settings can substantially improve results.\n",
    "4. For critical applications, it's good practice to verify Pathfinder results with MCMC.\n",
    "\n",
    "This makes Pathfinder a valuable addition to your Bayesian modeling toolkit, especially when you need quick results for exploratory analysis or with large models where MCMC might be prohibitively slow."
   ]
  },
  {
   "cell_type": "markdown",
   "metadata": {},
   "source": [
    "---\n",
    "## References\n",
    "\n",
    "1. Zhang, Lu, et al. \"Pathfinder: Parallel quasi-Newton variational inference.\" arXiv preprint arXiv:2108.03782 (2021).\n",
    "2. Rubin, Donald B. \"Estimation in parallel randomized experiments.\" Journal of Educational Statistics 6.4 (1981): 377-401."
   ]
  },
  {
   "cell_type": "code",
   "execution_count": null,
   "metadata": {},
   "outputs": [],
   "source": [
    "%load_ext watermark\n",
    "%watermark -n -u -v -iv -w"
   ]
  }
 ],
 "metadata": {
  "kernelspec": {
   "display_name": "default",
   "language": "python",
   "name": "python3"
  },
  "language_info": {
   "codemirror_mode": {
    "name": "ipython",
    "version": 3
   },
   "file_extension": ".py",
   "mimetype": "text/x-python",
   "name": "python",
   "nbconvert_exporter": "python",
   "pygments_lexer": "ipython3",
   "version": "3.12.10"
  }
 },
 "nbformat": 4,
 "nbformat_minor": 2
}
